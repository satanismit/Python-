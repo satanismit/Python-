{
  "cells": [
    {
      "cell_type": "code",
      "execution_count": null,
      "metadata": {},
      "outputs": [],
      "source": [
        "\n",
        "# open source \n",
        "# gui support \n",
        "\n",
        "a=9   # dynamic set the datatype \n",
        "b=10\n",
        "print(a,b,sep=\"!\",end=\" \")  \n",
        "print(b)"
      ]
    },
    {
      "cell_type": "code",
      "execution_count": null,
      "metadata": {},
      "outputs": [],
      "source": [
        "#list is ordered and mutable it starts with 0th index for end  start  with -1 \n",
        "\n",
        "l=[1,2,4,3,5,7,6]\n",
        "l.sort()\n",
        "print(l)\n",
        "l.append(0)\n",
        "print(l)\n",
        "b=l[2::1]    \n",
        "print(b)\n",
        "# print(l)"
      ]
    },
    {
      "cell_type": "code",
      "execution_count": null,
      "metadata": {},
      "outputs": [],
      "source": [
        "#tuple is immutable  \n",
        "\n",
        "t=(1,3,5,6,[1,2,3,4,5],7)\n",
        "l=[1,2,3,4,(1,2,3)]\n",
        "print(l)\n",
        "print(t)"
      ]
    },
    {
      "cell_type": "code",
      "execution_count": null,
      "metadata": {},
      "outputs": [],
      "source": [
        "# dictionary \n",
        "\n",
        "d={'charusat':'dap', 'course':'dap'}      #'key' : 'value'\n",
        "print(d['charusat'])                      # values may be same for one key\n",
        "print(d['course'])"
      ]
    },
    {
      "cell_type": "code",
      "execution_count": null,
      "metadata": {},
      "outputs": [],
      "source": [
        "#set --> elements dont repeat itself \n",
        "\n",
        "s={1,2,3,4,5,6,7,8,8,8,1}\n",
        "print(s)\n",
        "se=set(4)\n",
        "print(se)"
      ]
    }
  ],
  "metadata": {
    "kernelspec": {
      "display_name": "Python 3",
      "language": "python",
      "name": "python3"
    },
    "language_info": {
      "codemirror_mode": {
        "name": "ipython",
        "version": 3
      },
      "file_extension": ".py",
      "mimetype": "text/x-python",
      "name": "python",
      "nbconvert_exporter": "python",
      "pygments_lexer": "ipython3",
      "version": "3.12.4"
    }
  },
  "nbformat": 4,
  "nbformat_minor": 4
}
